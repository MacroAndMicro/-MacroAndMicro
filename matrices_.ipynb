{
  "nbformat": 4,
  "nbformat_minor": 0,
  "metadata": {
    "colab": {
      "provenance": [],
      "authorship_tag": "ABX9TyP+z7d7BJAzy2O05bxyliTl",
      "include_colab_link": true
    },
    "kernelspec": {
      "name": "python3",
      "display_name": "Python 3"
    },
    "language_info": {
      "name": "python"
    }
  },
  "cells": [
    {
      "cell_type": "markdown",
      "metadata": {
        "id": "view-in-github",
        "colab_type": "text"
      },
      "source": [
        "<a href=\"https://colab.research.google.com/github/MacroAndMicro/-MacroAndMicro/blob/main/matrices_.ipynb\" target=\"_parent\"><img src=\"https://colab.research.google.com/assets/colab-badge.svg\" alt=\"Open In Colab\"/></a>"
      ]
    },
    {
      "cell_type": "code",
      "execution_count": 11,
      "metadata": {
        "id": "PokGb4e24s_y"
      },
      "outputs": [],
      "source": [
        "import numpy as np"
      ]
    },
    {
      "cell_type": "markdown",
      "source": [
        "## Creation and types of matrices"
      ],
      "metadata": {
        "id": "k67blH6mMoQB"
      }
    },
    {
      "cell_type": "code",
      "source": [
        "mat1=np.array([[1,2],[6,7]])\n",
        "print(mat1)"
      ],
      "metadata": {
        "colab": {
          "base_uri": "https://localhost:8080/"
        },
        "id": "lzKw65Gm7IW_",
        "outputId": "485bd299-0283-488c-be3b-ae48ba728ec2"
      },
      "execution_count": 2,
      "outputs": [
        {
          "output_type": "stream",
          "name": "stdout",
          "text": [
            "[[1 2]\n",
            " [6 7]]\n"
          ]
        }
      ]
    },
    {
      "cell_type": "code",
      "source": [
        "mat1.shape"
      ],
      "metadata": {
        "colab": {
          "base_uri": "https://localhost:8080/"
        },
        "id": "4oIcq1M08hI1",
        "outputId": "979ab56a-3095-4f82-c6e9-ed7f208065a3"
      },
      "execution_count": 3,
      "outputs": [
        {
          "output_type": "execute_result",
          "data": {
            "text/plain": [
              "(2, 2)"
            ]
          },
          "metadata": {},
          "execution_count": 3
        }
      ]
    },
    {
      "cell_type": "code",
      "source": [
        "mat2=np.array([[1,2,3],[45,67,89],[-98,-12,-56]])\n",
        "print(mat2)"
      ],
      "metadata": {
        "colab": {
          "base_uri": "https://localhost:8080/"
        },
        "id": "AWzljTH08mhq",
        "outputId": "ed734e03-36d0-4d6e-80cf-647382a16a38"
      },
      "execution_count": 4,
      "outputs": [
        {
          "output_type": "stream",
          "name": "stdout",
          "text": [
            "[[  1   2   3]\n",
            " [ 45  67  89]\n",
            " [-98 -12 -56]]\n"
          ]
        }
      ]
    },
    {
      "cell_type": "code",
      "source": [
        "mat2.shape"
      ],
      "metadata": {
        "colab": {
          "base_uri": "https://localhost:8080/"
        },
        "id": "IhazruzX9Kc1",
        "outputId": "5db90640-c899-4d79-b994-be09547c68cf"
      },
      "execution_count": 5,
      "outputs": [
        {
          "output_type": "execute_result",
          "data": {
            "text/plain": [
              "(3, 3)"
            ]
          },
          "metadata": {},
          "execution_count": 5
        }
      ]
    },
    {
      "cell_type": "markdown",
      "source": [
        "### Creating matrices with random values"
      ],
      "metadata": {
        "id": "5xOgAgoD-5lU"
      }
    },
    {
      "cell_type": "code",
      "source": [
        "mat3=np.random.rand(4,4)\n",
        "print(mat3)"
      ],
      "metadata": {
        "colab": {
          "base_uri": "https://localhost:8080/"
        },
        "id": "urW_xpJO9tad",
        "outputId": "f829d0a6-fda7-4e3a-e58b-55f4a5263954"
      },
      "execution_count": 7,
      "outputs": [
        {
          "output_type": "stream",
          "name": "stdout",
          "text": [
            "[[0.94119951 0.98468048 0.72210655 0.10067053]\n",
            " [0.67217804 0.88442558 0.6130309  0.99730631]\n",
            " [0.0349595  0.67376661 0.97716049 0.14894462]\n",
            " [0.03883386 0.07048373 0.55504178 0.31695035]]\n"
          ]
        }
      ]
    },
    {
      "cell_type": "code",
      "source": [
        "mat4=np.random.randint(0, 11, size=(4, 5))\n",
        "print(mat4)"
      ],
      "metadata": {
        "colab": {
          "base_uri": "https://localhost:8080/"
        },
        "id": "_11si2lHBKY2",
        "outputId": "125136f8-f6c5-4602-cfdd-489905a1bc9e"
      },
      "execution_count": 14,
      "outputs": [
        {
          "output_type": "stream",
          "name": "stdout",
          "text": [
            "[[ 2  4  3  3  4]\n",
            " [ 5  3 10 10  6]\n",
            " [ 4  7  1  7  7]\n",
            " [ 6  1  5  5  0]]\n"
          ]
        }
      ]
    },
    {
      "cell_type": "markdown",
      "source": [
        "### Matrix with all values as ones"
      ],
      "metadata": {
        "id": "t50mG_kUYEg9"
      }
    },
    {
      "cell_type": "code",
      "source": [
        "mato = np.ones((3,3))\n",
        "print(mato)"
      ],
      "metadata": {
        "colab": {
          "base_uri": "https://localhost:8080/"
        },
        "id": "2ICNpCmeYDtk",
        "outputId": "9d322126-562d-47ad-d733-ed29ddada581"
      },
      "execution_count": 15,
      "outputs": [
        {
          "output_type": "stream",
          "name": "stdout",
          "text": [
            "[[1. 1. 1.]\n",
            " [1. 1. 1.]\n",
            " [1. 1. 1.]]\n"
          ]
        }
      ]
    },
    {
      "cell_type": "code",
      "source": [
        "mato = np.ones((3,3), dtype=int)\n",
        "print(mato)"
      ],
      "metadata": {
        "colab": {
          "base_uri": "https://localhost:8080/"
        },
        "id": "nsqti7_BlGzw",
        "outputId": "1b30ef5a-4352-43ac-ba1c-18c6ea015809"
      },
      "execution_count": 16,
      "outputs": [
        {
          "output_type": "stream",
          "name": "stdout",
          "text": [
            "[[1 1 1]\n",
            " [1 1 1]\n",
            " [1 1 1]]\n"
          ]
        }
      ]
    },
    {
      "cell_type": "markdown",
      "source": [
        "### Matrix with all values as 0's"
      ],
      "metadata": {
        "id": "TFGvtMoslYJs"
      }
    },
    {
      "cell_type": "code",
      "source": [
        "mato = np.zeros((3,3))\n",
        "print(mato)"
      ],
      "metadata": {
        "colab": {
          "base_uri": "https://localhost:8080/"
        },
        "id": "ORjhpCvOlhVx",
        "outputId": "6a6b0069-8dab-4058-90b9-44dc27b39664"
      },
      "execution_count": 17,
      "outputs": [
        {
          "output_type": "stream",
          "name": "stdout",
          "text": [
            "[[0. 0. 0.]\n",
            " [0. 0. 0.]\n",
            " [0. 0. 0.]]\n"
          ]
        }
      ]
    },
    {
      "cell_type": "code",
      "source": [
        "mato = np.zeros((3,3), dtype=int)\n",
        "print(mato)"
      ],
      "metadata": {
        "colab": {
          "base_uri": "https://localhost:8080/"
        },
        "id": "OBbL14ltlnbo",
        "outputId": "dbd60124-4f8c-4167-86b5-cffa2a049c7d"
      },
      "execution_count": 18,
      "outputs": [
        {
          "output_type": "stream",
          "name": "stdout",
          "text": [
            "[[0 0 0]\n",
            " [0 0 0]\n",
            " [0 0 0]]\n"
          ]
        }
      ]
    },
    {
      "cell_type": "markdown",
      "source": [
        "### Identity matrix"
      ],
      "metadata": {
        "id": "ZiLObCXiCc5F"
      }
    },
    {
      "cell_type": "code",
      "source": [
        "mato = np.eye(3,3)\n",
        "print(mato)"
      ],
      "metadata": {
        "colab": {
          "base_uri": "https://localhost:8080/"
        },
        "id": "4KgY7r-LCcCw",
        "outputId": "6c226a97-0035-4a7b-fd6b-57365baaaf76"
      },
      "execution_count": 4,
      "outputs": [
        {
          "output_type": "stream",
          "name": "stdout",
          "text": [
            "[[1. 0. 0.]\n",
            " [0. 1. 0.]\n",
            " [0. 0. 1.]]\n"
          ]
        }
      ]
    },
    {
      "cell_type": "code",
      "source": [
        "mato = np.eye(3,3, dtype=int)\n",
        "print(mato)"
      ],
      "metadata": {
        "colab": {
          "base_uri": "https://localhost:8080/"
        },
        "id": "BsOHRxyIC1Nt",
        "outputId": "28d697c7-e540-4497-9727-a37f5817a3ad"
      },
      "execution_count": 6,
      "outputs": [
        {
          "output_type": "stream",
          "name": "stdout",
          "text": [
            "[[1 0 0]\n",
            " [0 1 0]\n",
            " [0 0 1]]\n"
          ]
        }
      ]
    },
    {
      "cell_type": "markdown",
      "source": [
        "### Transpose of a matrix"
      ],
      "metadata": {
        "id": "EdR2XgPzDCWM"
      }
    },
    {
      "cell_type": "code",
      "source": [
        "mat4=np.random.randint(0, 11, size=(4, 5))\n",
        "print(mat4)"
      ],
      "metadata": {
        "colab": {
          "base_uri": "https://localhost:8080/"
        },
        "id": "g_qdM_qODFoa",
        "outputId": "1a30beb6-c41b-424e-8bae-842353e28569"
      },
      "execution_count": 9,
      "outputs": [
        {
          "output_type": "stream",
          "name": "stdout",
          "text": [
            "[[0 5 1 6 3]\n",
            " [2 1 2 6 1]\n",
            " [7 8 2 1 7]\n",
            " [2 0 9 9 0]]\n"
          ]
        }
      ]
    },
    {
      "cell_type": "code",
      "source": [
        "mata=np.transpose(mat4)\n",
        "print(mata)"
      ],
      "metadata": {
        "colab": {
          "base_uri": "https://localhost:8080/"
        },
        "id": "FWtC3FHkD6L6",
        "outputId": "d4a75fd2-52e3-46fe-f74d-454b4b4c9354"
      },
      "execution_count": 10,
      "outputs": [
        {
          "output_type": "stream",
          "name": "stdout",
          "text": [
            "[[0 2 7 2]\n",
            " [5 1 8 0]\n",
            " [1 2 2 9]\n",
            " [6 6 1 9]\n",
            " [3 1 7 0]]\n"
          ]
        }
      ]
    },
    {
      "cell_type": "markdown",
      "source": [
        "## Operations on Matrices\n",
        "\n"
      ],
      "metadata": {
        "id": "wYQqHJhFM2aa"
      }
    },
    {
      "cell_type": "code",
      "source": [
        "a=np.array([[1,2],[3,4]])\n",
        "b=np.array([[10,6],[7,8]])"
      ],
      "metadata": {
        "id": "UvNmBV8xV3oR"
      },
      "execution_count": 15,
      "outputs": []
    },
    {
      "cell_type": "code",
      "source": [
        "c=a+b\n",
        "print(c)"
      ],
      "metadata": {
        "colab": {
          "base_uri": "https://localhost:8080/"
        },
        "id": "g6CmAzQnWFxA",
        "outputId": "2323f130-54af-4cbb-fdec-209d404cb93a"
      },
      "execution_count": 16,
      "outputs": [
        {
          "output_type": "stream",
          "name": "stdout",
          "text": [
            "[[11  8]\n",
            " [10 12]]\n"
          ]
        }
      ]
    },
    {
      "cell_type": "code",
      "source": [
        "c=a-b\n",
        "print(c)"
      ],
      "metadata": {
        "colab": {
          "base_uri": "https://localhost:8080/"
        },
        "id": "HyWSnNnqWL9J",
        "outputId": "dd92b541-f678-4c28-b7a5-8f81346ae0c0"
      },
      "execution_count": 17,
      "outputs": [
        {
          "output_type": "stream",
          "name": "stdout",
          "text": [
            "[[-9 -4]\n",
            " [-4 -4]]\n"
          ]
        }
      ]
    },
    {
      "cell_type": "code",
      "source": [
        "z=3\n",
        "c=z*a\n",
        "print(c)"
      ],
      "metadata": {
        "colab": {
          "base_uri": "https://localhost:8080/"
        },
        "id": "FY7hVYqwWeRS",
        "outputId": "ef221e55-b794-4089-bc68-64d7ec5326fb"
      },
      "execution_count": 18,
      "outputs": [
        {
          "output_type": "stream",
          "name": "stdout",
          "text": [
            "[[ 3  6]\n",
            " [ 9 12]]\n"
          ]
        }
      ]
    },
    {
      "cell_type": "code",
      "source": [
        "s=np.dot(a,b)\n",
        "print(s)"
      ],
      "metadata": {
        "colab": {
          "base_uri": "https://localhost:8080/"
        },
        "id": "HGmEZMc9WrNz",
        "outputId": "ec4ce4b4-b38c-4a69-bf70-def6547f6fe1"
      },
      "execution_count": 19,
      "outputs": [
        {
          "output_type": "stream",
          "name": "stdout",
          "text": [
            "[[24 22]\n",
            " [58 50]]\n"
          ]
        }
      ]
    }
  ]
}